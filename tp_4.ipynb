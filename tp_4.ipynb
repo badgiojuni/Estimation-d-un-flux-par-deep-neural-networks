{
 "cells": [
  {
   "cell_type": "markdown",
   "metadata": {},
   "source": [
    "# Estimation d'un flux par machine learning\n",
    "\n",
    "On se place sur l'intervalle $[0, 1]$. On suppose que l'on dispose d'une densité $u$ prenant les valeurs $0$ ou $1$ uniquement. \n",
    "\n",
    "On se donne une discrétisation de cet intervalle en $N$ mailles $T_i$, $i \\in \\{1, ..., N\\}$, de même taille $\\Delta x$ et on note $u_k$ la valeur moyenne de $u$ dans la maille $k$ pour $k$ dans $\\{1, ..., N\\}$.\n",
    "\n",
    "Soit $\\Delta t > 0$ un pas de temps donné. On considère une maille $T_i$ et une vitesse $\\beta_i > 0$ sur le bord droit de la maille. On voudrait estimer la quantité de matière sortante de la maille $T_i$ pendant un temps $\\Delta t$ avec un réseau de neuronne.\n",
    "\n",
    "Les entrées du réseau sont :\n",
    "\n",
    "- les fractions volumiques $u_{i-1}$, $u_i$, et $u_{i+1}$,\n",
    "- la vitesse $\\beta_i$.\n",
    "\n",
    "et la sortie est la quantité de matière sortante.\n",
    "\n",
    "Pour que l'estimation des paramètres du modèle fonctionne bien, il est préférable de \"normaliser\" les données d'entrées. Ici, les fractions volumiques sont comprises entre $0$ et $1$ mais la vitesse $\\beta_i$ n'est pas bornée supérieurement, les mailles ont une taille $\\Delta x$ et on regarde le flux sur un temps $\\Delta t$.\n",
    "\n",
    "Pour normaliser toutes ces données, on suppose que $\\Delta t$ vérifie $\\frac{\\beta_i \\Delta t}{\\Delta x} \\leq 1$. Ainsi, tout revient à considérer des mailles de tailles $1$, un pas de temps égal à $1$ et des vitesses $\\frac{\\beta_i \\Delta t}{\\Delta x}$ dans $[0, 1]$."
   ]
  },
  {
   "cell_type": "code",
   "execution_count": 12,
   "metadata": {},
   "outputs": [],
   "source": [
    "import keras.models\n",
    "import tensorflow as tf\n",
    "import numpy as np\n",
    "\n",
    "import matplotlib.pyplot as plt"
   ]
  },
  {
   "cell_type": "markdown",
   "metadata": {},
   "source": [
    "## Génération des données d'entraînement\n",
    "\n",
    "Étant donné une maille, notre modèle retourne la quantité de matière sortante (un scalaire) du bord droit de la maille à partir des données d'entrées suivantes :\n",
    "\n",
    "- la fraction volumique dans la maille de taille $1$ en question et celles des deux mailles adjacentes (trois valeurs entre 0 et 1)\n",
    "- la vitesse sur le bord droit de la maille considérée (un scalaire dans $[0, 1]$)\n",
    "\n",
    "Le modèle prend donc un vecteur 1D de $3 + 1$ éléments en entrée et retourne un scalaire (la quantité de matière)."
   ]
  },
  {
   "cell_type": "markdown",
   "metadata": {},
   "source": [
    "1. Écrire une fonction `compute_volfrac` qui retourne les fractions volumiques dans un ensemble de mailles à partir de la position à laquelle la densité $u$ change de valeur (passage de 0 à 1 ou de 1 à 0). Elle prend en argument :\n",
    "    \n",
    "    - Un tableau 2D X contenant les coordonnées des bords gauche et droit de chaque maille dans lesquelles on veut calculer la fraction volumique $u_k$.\n",
    "    - La position $\\gamma$ du point de changement de valeur de $u$.\n",
    "    - Une variable `side` telle que si `side` est négatif, $u$ vaut $1$ à gauche de $\\gamma$ et $0$ à droite et le contraire si `side` est positif."
   ]
  },
  {
   "cell_type": "code",
   "execution_count": 175,
   "metadata": {},
   "outputs": [],
   "source": [
    "def compute_volfrac(X, gamma, side=-1):\n",
    "    f = np.zeros((X.shape[0],1))\n",
    "    if side <0 :\n",
    "        for i in range(len(f)):\n",
    "            deltax = X[i,1] - X[i,0]\n",
    "            if X[i,0] < gamma and X[i,1] < gamma:\n",
    "                f[i] = 1\n",
    "            elif X[i, 0] < gamma < X[i, 1]:\n",
    "                f[i] = (gamma - X[i,0])/deltax\n",
    "            else: f[i] = 0\n",
    "\n",
    "    else:\n",
    "        for i in range(len(f)):\n",
    "            deltax = X[i,1] - X[i,0]\n",
    "            if X[i,0] < gamma and X[i,1] < gamma:\n",
    "                f[i] = 0\n",
    "            elif X[i, 0] < gamma < X[i, 1]:\n",
    "                f[i] = (X[i,1] - gamma)/deltax\n",
    "            else: f[i] = 1\n",
    "\n",
    "    return f\n"
   ]
  },
  {
   "cell_type": "code",
   "execution_count": 183,
   "outputs": [],
   "source": [
    "# test question 1\n",
    "gamma=-0.1 # gamma est entre -1/2 et 1/2 pour la suite\n",
    "x = np.linspace(start=-1/2, stop=1/2, num=50)\n",
    "X = np.zeros((len(x)-1, 2))\n",
    "for i in range(len(X)):\n",
    "    X[i,0] = x[i]\n",
    "    X[i,1] = x[i+1]\n",
    "fract = compute_volfrac(X, gamma,1)"
   ],
   "metadata": {
    "collapsed": false,
    "pycharm": {
     "name": "#%%\n"
    }
   }
  },
  {
   "cell_type": "code",
   "execution_count": 184,
   "outputs": [
    {
     "name": "stdout",
     "output_type": "stream",
     "text": [
      "[[0. ]\n",
      " [0. ]\n",
      " [0. ]\n",
      " [0. ]\n",
      " [0. ]\n",
      " [0. ]\n",
      " [0. ]\n",
      " [0. ]\n",
      " [0. ]\n",
      " [0. ]\n",
      " [0. ]\n",
      " [0. ]\n",
      " [0. ]\n",
      " [0. ]\n",
      " [0. ]\n",
      " [0. ]\n",
      " [0. ]\n",
      " [0. ]\n",
      " [0. ]\n",
      " [0.4]\n",
      " [1. ]\n",
      " [1. ]\n",
      " [1. ]\n",
      " [1. ]\n",
      " [1. ]\n",
      " [1. ]\n",
      " [1. ]\n",
      " [1. ]\n",
      " [1. ]\n",
      " [1. ]\n",
      " [1. ]\n",
      " [1. ]\n",
      " [1. ]\n",
      " [1. ]\n",
      " [1. ]\n",
      " [1. ]\n",
      " [1. ]\n",
      " [1. ]\n",
      " [1. ]\n",
      " [1. ]\n",
      " [1. ]\n",
      " [1. ]\n",
      " [1. ]\n",
      " [1. ]\n",
      " [1. ]\n",
      " [1. ]\n",
      " [1. ]\n",
      " [1. ]\n",
      " [1. ]]\n"
     ]
    }
   ],
   "source": [
    "x = np.linspace(start=-1/2, stop=1/2, num=50)\n",
    "print(fract)"
   ],
   "metadata": {
    "collapsed": false,
    "pycharm": {
     "name": "#%%\n"
    }
   }
  },
  {
   "cell_type": "markdown",
   "metadata": {},
   "source": [
    "2. Écrire une fonction `compute_exact_mass` qui retourne la valeur exacte de la quantité de matière passant à travers le bord droit d'une maille à vitesse $\\beta$. La fonction prend trois arguments d'entrée :\n",
    "\n",
    "    - La position $\\gamma$ comme dans la question précédente.\n",
    "    - Une variable `side` comme dans la question précédente.\n",
    "    - Une vitesse $\\beta$ dans $[0, 1]$."
   ]
  },
  {
   "cell_type": "code",
   "execution_count": 185,
   "outputs": [],
   "source": [
    "# gamma est entre -1/2 et 1/2 pour la suite\n",
    "\n",
    "def compute_exact_mass(gamma, beta, side=-1):\n",
    "    x = np.array([[-1/2, 1/2]])\n",
    "    f = compute_volfrac(x,gamma, side=side)\n",
    "    q_mat = f * beta\n",
    "    if side < 0:\n",
    "        if beta >=0:\n",
    "            if beta <= 1/2 - gamma:\n",
    "                q_mat = 0\n",
    "            else:\n",
    "                q_mat = beta - 1/2 + gamma\n",
    "        else:\n",
    "            q_mat = 0\n",
    "\n",
    "    else:\n",
    "        if beta < 0:\n",
    "            q_mat = -beta\n",
    "        else:\n",
    "            if beta < 1/2 -gamma:\n",
    "                q_mat = beta\n",
    "            else:\n",
    "                q_mat = 1/2 - gamma\n",
    "\n",
    "    return q_mat * f"
   ],
   "metadata": {
    "collapsed": false,
    "pycharm": {
     "name": "#%%\n"
    }
   }
  },
  {
   "cell_type": "code",
   "execution_count": 186,
   "outputs": [
    {
     "name": "stdout",
     "output_type": "stream",
     "text": [
      "[[0.]]\n"
     ]
    }
   ],
   "source": [
    "#test fonction compute_mass_exact\n",
    "print(compute_exact_mass(gamma=-0.4, beta=-0.1))"
   ],
   "metadata": {
    "collapsed": false,
    "pycharm": {
     "name": "#%%\n"
    }
   }
  },
  {
   "cell_type": "markdown",
   "metadata": {},
   "source": [
    "3. À l'aide des deux fonctions précédentes, écrire une fonction `generate_training_data` qui prend deux arguments `ngammas` et `nbetas` et retourne un dataset contenant des données d'entraînements. On prendra `ngammas` valeurs dans $[-1.5, 1.5]$ pour les positions $\\gamma$ (ce qui recouvre les trois mailles de tailles 1), les deux valeurs $-1$ et $1$ pour la variable `side` afin d'avoir les deux configurations possibles et `nbetas` valeurs dans $[0, 1]$ pour les vitesses $\\beta$. Le dataset retourné par cette fonction comportera donc `ngammas` x `nbetas` x $2$ éléments."
   ]
  },
  {
   "cell_type": "code",
   "execution_count": 195,
   "metadata": {},
   "outputs": [],
   "source": [
    "def generate_training_data(ngammas, nbetas):\n",
    "    gamma_vect = np.random.uniform(-0.5, 0.5, size=ngammas)\n",
    "    beta_vect = np.random.uniform(-1,1, size=nbetas)\n",
    "    sides = np.array([-1,1])\n",
    "    x = np.array([[-1/2, 1/2]])\n",
    "    final_array = np.zeros((len(sides)*ngammas*nbetas, 3))\n",
    "    cptr = 0\n",
    "    for gamma in gamma_vect:\n",
    "        for side in sides:\n",
    "            for beta in beta_vect:\n",
    "                final_array[cptr,:] = np.array([compute_volfrac(x,gamma,side), beta,\n",
    "                                      compute_exact_mass(gamma, beta, side)])\n",
    "                cptr += 1\n",
    "    return final_array"
   ]
  },
  {
   "cell_type": "markdown",
   "metadata": {},
   "source": [
    "## Estimation des paramètres du modèle"
   ]
  },
  {
   "cell_type": "markdown",
   "metadata": {},
   "source": [
    "### Charger le dataset\n",
    "\n",
    "4. Appeler la fonction `generate_training_data` et en afficher $5$ prises au hasard."
   ]
  },
  {
   "cell_type": "code",
   "execution_count": 196,
   "outputs": [],
   "source": [
    "import random"
   ],
   "metadata": {
    "collapsed": false,
    "pycharm": {
     "name": "#%%\n"
    }
   }
  },
  {
   "cell_type": "code",
   "execution_count": 197,
   "metadata": {},
   "outputs": [
    {
     "name": "stderr",
     "output_type": "stream",
     "text": [
      "/opt/anaconda3/lib/python3.7/site-packages/ipykernel_launcher.py:12: VisibleDeprecationWarning: Creating an ndarray from ragged nested sequences (which is a list-or-tuple of lists-or-tuples-or ndarrays with different lengths or shapes) is deprecated. If you meant to do this, you must specify 'dtype=object' when creating the ndarray.\n",
      "  if sys.path[0] == '':\n"
     ]
    },
    {
     "name": "stdout",
     "output_type": "stream",
     "text": [
      "[[ 0.87988008  0.73817908  0.64950907]\n",
      " [ 0.73632723  0.52572742  0.19295797]\n",
      " [ 0.40792547  0.79891719  0.08437639]\n",
      " [ 0.8056385   0.77485206  0.46766554]\n",
      " [ 0.91442332 -0.71652183  0.        ]] [8317, 6400, 12176, 12698, 1314]\n"
     ]
    }
   ],
   "source": [
    "ngammas = 80\n",
    "nbetas = 80\n",
    "sizetf = ngammas * nbetas * 2\n",
    "batchsize = 100\n",
    "trainarray = generate_training_data(ngammas, nbetas)\n",
    "indices = random.sample(range(0, ngammas*nbetas*2), 5)\n",
    "print(trainarray[indices, :], indices)"
   ]
  },
  {
   "cell_type": "markdown",
   "metadata": {},
   "source": [
    "5. Préparer le dataset pour l'entraînement du modèle (cache, shuffling, batch, prefetching, ...)"
   ]
  },
  {
   "cell_type": "code",
   "execution_count": 198,
   "metadata": {},
   "outputs": [],
   "source": [
    "X = trainarray[:,:-1]\n",
    "y =  trainarray[:,-1]\n",
    "dataset = tf.data.Dataset.from_tensor_slices((X,y))\n",
    "dataset = dataset.cache()\n",
    "dataset = dataset.shuffle(sizetf, reshuffle_each_iteration=True)\n",
    "dataset = dataset.batch(batchsize)"
   ]
  },
  {
   "cell_type": "markdown",
   "metadata": {},
   "source": [
    "### Définition du modèle\n",
    "\n",
    "6. Définir un modèle (comme vous voulez). Il prendra des tenseurs de taille 4 en entrée et retournera un tenseur de taille 1 en sortie.\n",
    "7. Choisir une loss et un optimiseur adaptée à notre problème et compiler le modèle."
   ]
  },
  {
   "cell_type": "code",
   "execution_count": 199,
   "metadata": {},
   "outputs": [],
   "source": [
    "from tensorflow.keras.models import Sequential\n",
    "from tensorflow.keras.layers import Dense\n",
    "from tensorflow.keras.optimizers import Adam\n"
   ]
  },
  {
   "cell_type": "code",
   "execution_count": 200,
   "metadata": {},
   "outputs": [
    {
     "name": "stdout",
     "output_type": "stream",
     "text": [
      "Model: \"sequential_5\"\n",
      "_________________________________________________________________\n",
      "Layer (type)                 Output Shape              Param #   \n",
      "=================================================================\n",
      "dense_15 (Dense)             (None, 20)                60        \n",
      "_________________________________________________________________\n",
      "dense_16 (Dense)             (None, 10)                210       \n",
      "_________________________________________________________________\n",
      "dense_17 (Dense)             (None, 1)                 11        \n",
      "=================================================================\n",
      "Total params: 281\n",
      "Trainable params: 281\n",
      "Non-trainable params: 0\n",
      "_________________________________________________________________\n"
     ]
    }
   ],
   "source": [
    "model = tf.keras.Sequential()\n",
    "model.add(Dense(20, input_dim=2, activation='relu'))\n",
    "model.add(Dense(10, input_dim=20, activation='relu'))\n",
    "model.add(Dense(1, input_dim=10, activation='relu'))\n",
    "model.compile(optimizer=Adam(learning_rate=1e-3), loss='MSE')\n",
    "model.summary()"
   ]
  },
  {
   "cell_type": "code",
   "execution_count": 201,
   "metadata": {},
   "outputs": [
    {
     "name": "stdout",
     "output_type": "stream",
     "text": [
      "Epoch 1/10\n",
      "128/128 [==============================] - 3s 26ms/step - loss: 0.0266\n",
      "Epoch 2/10\n",
      "  1/128 [..............................] - ETA: 16s - loss: 0.0177"
     ]
    },
    {
     "name": "stderr",
     "output_type": "stream",
     "text": [
      "2022-03-17 13:58:15.250599: W tensorflow/core/common_runtime/base_collective_executor.cc:216] BaseCollectiveExecutor::StartAbort Out of range: End of sequence\n",
      "\t [[{{node IteratorGetNext}}]]\n"
     ]
    },
    {
     "name": "stdout",
     "output_type": "stream",
     "text": [
      "128/128 [==============================] - 1s 8ms/step - loss: 0.0165\n",
      "Epoch 3/10\n",
      "  9/128 [=>............................] - ETA: 2s - loss: 0.0159 "
     ]
    },
    {
     "name": "stderr",
     "output_type": "stream",
     "text": [
      "2022-03-17 13:58:16.240495: W tensorflow/core/common_runtime/base_collective_executor.cc:216] BaseCollectiveExecutor::StartAbort Out of range: End of sequence\n",
      "\t [[{{node IteratorGetNext}}]]\n"
     ]
    },
    {
     "name": "stdout",
     "output_type": "stream",
     "text": [
      "128/128 [==============================] - 1s 6ms/step - loss: 0.0155\n",
      "Epoch 4/10\n",
      "  9/128 [=>............................] - ETA: 2s - loss: 0.0134 "
     ]
    },
    {
     "name": "stderr",
     "output_type": "stream",
     "text": [
      "2022-03-17 13:58:16.983907: W tensorflow/core/common_runtime/base_collective_executor.cc:216] BaseCollectiveExecutor::StartAbort Out of range: End of sequence\n",
      "\t [[{{node IteratorGetNext}}]]\n"
     ]
    },
    {
     "name": "stdout",
     "output_type": "stream",
     "text": [
      "128/128 [==============================] - 1s 8ms/step - loss: 0.0153\n",
      "Epoch 5/10\n",
      "  1/128 [..............................] - ETA: 16s - loss: 0.0168"
     ]
    },
    {
     "name": "stderr",
     "output_type": "stream",
     "text": [
      "2022-03-17 13:58:18.015362: W tensorflow/core/common_runtime/base_collective_executor.cc:216] BaseCollectiveExecutor::StartAbort Out of range: End of sequence\n",
      "\t [[{{node IteratorGetNext}}]]\n"
     ]
    },
    {
     "name": "stdout",
     "output_type": "stream",
     "text": [
      "128/128 [==============================] - 1s 8ms/step - loss: 0.0151\n",
      "Epoch 6/10\n",
      "  1/128 [..............................] - ETA: 19s - loss: 0.0151"
     ]
    },
    {
     "name": "stderr",
     "output_type": "stream",
     "text": [
      "2022-03-17 13:58:19.036439: W tensorflow/core/common_runtime/base_collective_executor.cc:216] BaseCollectiveExecutor::StartAbort Out of range: End of sequence\n",
      "\t [[{{node IteratorGetNext}}]]\n"
     ]
    },
    {
     "name": "stdout",
     "output_type": "stream",
     "text": [
      "128/128 [==============================] - 1s 8ms/step - loss: 0.0150\n",
      "Epoch 7/10\n",
      "  1/128 [..............................] - ETA: 16s - loss: 0.0163"
     ]
    },
    {
     "name": "stderr",
     "output_type": "stream",
     "text": [
      "2022-03-17 13:58:20.072044: W tensorflow/core/common_runtime/base_collective_executor.cc:216] BaseCollectiveExecutor::StartAbort Out of range: End of sequence\n",
      "\t [[{{node IteratorGetNext}}]]\n"
     ]
    },
    {
     "name": "stdout",
     "output_type": "stream",
     "text": [
      "128/128 [==============================] - 1s 9ms/step - loss: 0.0150\n",
      "Epoch 8/10\n",
      "  9/128 [=>............................] - ETA: 2s - loss: 0.0152 "
     ]
    },
    {
     "name": "stderr",
     "output_type": "stream",
     "text": [
      "2022-03-17 13:58:21.296586: W tensorflow/core/common_runtime/base_collective_executor.cc:216] BaseCollectiveExecutor::StartAbort Out of range: End of sequence\n",
      "\t [[{{node IteratorGetNext}}]]\n"
     ]
    },
    {
     "name": "stdout",
     "output_type": "stream",
     "text": [
      "128/128 [==============================] - 1s 7ms/step - loss: 0.0149\n",
      "Epoch 9/10\n",
      " 10/128 [=>............................] - ETA: 1s - loss: 0.0164 "
     ]
    },
    {
     "name": "stderr",
     "output_type": "stream",
     "text": [
      "2022-03-17 13:58:22.156210: W tensorflow/core/common_runtime/base_collective_executor.cc:216] BaseCollectiveExecutor::StartAbort Out of range: End of sequence\n",
      "\t [[{{node IteratorGetNext}}]]\n"
     ]
    },
    {
     "name": "stdout",
     "output_type": "stream",
     "text": [
      "128/128 [==============================] - 1s 9ms/step - loss: 0.0148\n",
      "Epoch 10/10\n"
     ]
    },
    {
     "name": "stderr",
     "output_type": "stream",
     "text": [
      "2022-03-17 13:58:23.245490: W tensorflow/core/common_runtime/base_collective_executor.cc:216] BaseCollectiveExecutor::StartAbort Out of range: End of sequence\n",
      "\t [[{{node IteratorGetNext}}]]\n"
     ]
    },
    {
     "name": "stdout",
     "output_type": "stream",
     "text": [
      "128/128 [==============================] - 1s 7ms/step - loss: 0.0147\n"
     ]
    },
    {
     "name": "stderr",
     "output_type": "stream",
     "text": [
      "2022-03-17 13:58:24.188634: W tensorflow/core/common_runtime/base_collective_executor.cc:216] BaseCollectiveExecutor::StartAbort Out of range: End of sequence\n",
      "\t [[{{node IteratorGetNext}}]]\n"
     ]
    },
    {
     "data": {
      "text/plain": "<tensorflow.python.keras.callbacks.History at 0x14fa817d0>"
     },
     "execution_count": 201,
     "metadata": {},
     "output_type": "execute_result"
    }
   ],
   "source": [
    "nbepochs = 10\n",
    "model.fit(dataset, epochs = nbepochs, verbose=1)"
   ]
  },
  {
   "cell_type": "markdown",
   "metadata": {},
   "source": [
    "8. À l'aide de la fonction `save` du modèle, sauvegarder votre modèle entraîné. Vous pourrez ainsi le charger directement plus tard (ou le partager) avec la fonction `keras.models.load_model`."
   ]
  },
  {
   "cell_type": "code",
   "execution_count": 202,
   "metadata": {},
   "outputs": [
    {
     "name": "stdout",
     "output_type": "stream",
     "text": [
      "INFO:tensorflow:Assets written to: /Users/theophilebaggio/Desktop/studies/Lyon_M2_SITN/Analyse_Appliquée_EDP/modeltheotp4/assets\n"
     ]
    }
   ],
   "source": [
    "model.save(filepath=\"/Users/theophilebaggio/Desktop/studies/Lyon_M2_SITN/Analyse_Appliquée_EDP/modeltheotp4\")"
   ]
  },
  {
   "cell_type": "code",
   "execution_count": 203,
   "outputs": [],
   "source": [
    "from tensorflow.keras.models import load_model\n",
    "model_test = load_model(filepath = \"/Users/theophilebaggio/Desktop/studies/Lyon_M2_SITN/Analyse_Appliquée_EDP/modeltheotp4\")"
   ],
   "metadata": {
    "collapsed": false,
    "pycharm": {
     "name": "#%%\n"
    }
   }
  },
  {
   "cell_type": "markdown",
   "metadata": {},
   "source": [
    "9. Étant donné une position $\\gamma$ et un coté `side` pris au hasard, tracer sur un même graphique le résultat du modèle et les valeurs exactes pour des vitesses $\\beta$ dans $[0, 1]$."
   ]
  },
  {
   "cell_type": "code",
   "execution_count": 204,
   "outputs": [
    {
     "name": "stderr",
     "output_type": "stream",
     "text": [
      "/opt/anaconda3/lib/python3.7/site-packages/ipykernel_launcher.py:12: VisibleDeprecationWarning: Creating an ndarray from ragged nested sequences (which is a list-or-tuple of lists-or-tuples-or ndarrays with different lengths or shapes) is deprecated. If you meant to do this, you must specify 'dtype=object' when creating the ndarray.\n",
      "  if sys.path[0] == '':\n"
     ]
    },
    {
     "data": {
      "text/plain": "[<matplotlib.lines.Line2D at 0x15079a750>]"
     },
     "execution_count": 204,
     "metadata": {},
     "output_type": "execute_result"
    },
    {
     "data": {
      "text/plain": "<Figure size 432x288 with 1 Axes>",
      "image/png": "[encoded data removed]"
     },
     "metadata": {
      "needs_background": "light"
     },
     "output_type": "display_data"
    }
   ],
   "source": [
    "import matplotlib.pyplot as plt\n",
    "dataset2 = generate_training_data(ngammas=1, nbetas=50)\n",
    "Xtest = dataset2[:,:-1]\n",
    "ytest = dataset2[:,-1]\n",
    "res_model = model.predict(x=Xtest)\n",
    "xgrid = range(1,len(ytest)+1)\n",
    "plt.plot(xgrid, ytest)\n",
    "plt.plot(xgrid, res_model)"
   ],
   "metadata": {
    "collapsed": false,
    "pycharm": {
     "name": "#%%\n"
    }
   }
  },
  {
   "cell_type": "markdown",
   "metadata": {},
   "source": [
    "### Évaluation du modèle\n",
    "\n",
    "10. Tirer aléatoirement `ntests` données de test et évaluer votre modèle dessus."
   ]
  },
  {
   "cell_type": "code",
   "execution_count": null,
   "metadata": {},
   "outputs": [],
   "source": []
  }
 ],
 "metadata": {
  "kernelspec": {
   "name": "python3",
   "language": "python",
   "display_name": "Python 3 (ipykernel)"
  },
  "language_info": {
   "codemirror_mode": {
    "name": "ipython",
    "version": 3
   },
   "file_extension": ".py",
   "mimetype": "text/x-python",
   "name": "python",
   "nbconvert_exporter": "python",
   "pygments_lexer": "ipython3",
   "version": "3.9.9"
  },
  "toc": {
   "base_numbering": 1,
   "nav_menu": {},
   "number_sections": true,
   "sideBar": true,
   "skip_h1_title": false,
   "title_cell": "Table of Contents",
   "title_sidebar": "Contents",
   "toc_cell": false,
   "toc_position": {},
   "toc_section_display": true,
   "toc_window_display": false
  }
 },
 "nbformat": 4,
 "nbformat_minor": 4
}